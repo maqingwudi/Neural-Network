{
 "cells": [
  {
   "cell_type": "code",
   "execution_count": 4,
   "id": "a0223bd5-14de-4ed9-943f-34d23cb57ee9",
   "metadata": {},
   "outputs": [],
   "source": [
    "# data import\n",
    "A_1 = [0, 0, 1, 1, 0, 0, 0, 0, 0, 0, 1, 0, 0, 0, 0, 0, 0, 1, 0, 0, 0, 0, 0, 1, 0, 1, 0, 0, 0, 0, 1, 0, 1, 0, 0, 0, 1, 1, 1, 1, 1, 0, 0, 1, 0, 0, 0, 1, 0, 0, 1, 0, 0, 0, 1, 0, 1, 1, 1, 0, 1, 1, 1]\n",
    "B_1 = [1, 1, 1, 1, 1, 1, 0, 0, 1, 0, 0, 0, 0, 1, 0, 1, 0, 0, 0, 0, 1, 0, 1, 0, 0, 0, 0, 1, 0, 1, 1, 1, 1, 1, 0, 0, 1 ,0, 0, 0, 0, 1, 0, 1, 0, 0, 0, 0, 1, 0, 1, 0, 0, 0, 0, 1, 1, 1, 1, 1, 1, 1, 0]\n",
    "C_1 = [0, 0, 1, 1, 1, 0, 0, 0, 1, 0, 0, 0, 0, 1, 1, 0, 0, 0, 0, 0, 0, 1, 0, 0, 0, 0, 0, 0, 1, 0, 0, 0, 0, 0, 0, 1, 0, 0, 0, 0, 0, 0, 1, 0, 0, 0, 0, 0, 0, 0, 1, 0, 0, 0, 0, 1, 0, 0, 1, 1, 1, 1, 0]\n",
    "K_1 = [1, 1, 1, 0, 0, 1, 1, 0, 1, 0, 0, 1, 0, 0, 0, 1, 0, 1, 0, 0, 0, 0, 1, 1, 0, 0, 0, 0, 0, 1, 1, 0, 0, 0, 0, 0, 1 ,0, 1, 0, 0, 0, 0, 1, 0, 0, 1, 0, 0, 0, 1, 0, 0, 0, 1, 0, 1, 1, 1, 0, 0, 1, 1]\n",
    "J_1 = [0, 0, 0, 1, 1, 1, 1, 0, 0, 0, 0, 0, 1, 0, 0, 0, 0, 0, 0, 1, 0, 0, 0, 0, 0, 0, 1, 0, 0, 0, 0, 0, 0, 1, 0, 0, 0 ,0, 0, 0, 1, 0, 0, 1, 0, 0, 0, 1, 0, 0, 1, 0, 0, 0, 1, 0, 0, 0, 1, 1, 1, 0, 0]\n",
    "E_1 = [1, 1, 1, 1, 1, 1, 1, 0, 1, 0, 0, 0, 0, 1, 0, 1, 0, 0, 0, 0, 0, 0, 1, 0, 1, 0, 0, 0, 0, 1, 1, 1, 0, 0, 0, 0, 1 ,0, 1, 0, 0, 0, 0, 1, 0, 0, 0, 0, 0, 0, 1, 0, 0, 0, 0, 1, 1, 1, 1, 1, 1, 1, 1]\n",
    "D_1 = [1, 1, 1, 1, 1, 0, 0, 0, 1, 0, 0, 0, 1, 0, 0, 1, 0, 0, 0, 0, 1, 0, 1, 0, 0, 0, 0, 1, 0, 1, 0, 0, 0, 0, 1, 0, 1 ,0, 0, 0, 0, 1, 0, 1, 0, 0, 0, 0, 1, 0, 1, 0, 0, 0, 1, 0, 1, 1, 1, 1, 1, 0, 0]\n",
    "\n",
    "A_2 = [0, 0, 0, 0, 0, 0, 0, 0, 0, 0, 1, 0, 0, 0, 0, 0, 0, 1, 0, 0, 0, 0, 0, 1, 0, 1, 0, 0, 0, 0, 1, 0, 1, 0, 0, 0, 1, 0, 0, 0, 1, 0, 0, 1, 1, 1, 1, 1, 0, 0, 1, 0, 0, 0, 1, 0, 0, 1, 0, 0, 0, 1, 0]\n",
    "B_2 = [0, 0, 1, 1, 1, 1, 0, 1, 0, 0, 0, 0, 0, 0, 1, 0, 0, 0, 0, 0, 1, 1, 0, 0, 0, 0, 0, 1, 1, 1, 1, 1, 1, 1, 0, 1, 0, 0, 0, 0, 0, 1, 1, 0, 0, 0, 0, 0, 1, 1, 0, 0, 0, 0, 0, 1, 1, 1, 1, 1, 1, 1, 0]\n",
    "C_2 = [0, 0, 1, 1, 1, 0, 0, 0, 1, 0, 0, 0, 1, 0, 1, 0, 0, 0, 0, 0, 1, 1, 0, 0, 0, 0, 0, 0, 1, 0, 0, 0, 0, 0, 0, 1, 0, 0, 0, 0, 0, 0, 1, 0, 0, 0, 0, 0, 1, 0, 1, 0, 0, 0, 1, 0, 0, 0, 1, 1, 1, 0, 0]\n",
    "K_2 = [1, 0, 0, 0, 0, 1, 0, 1, 0, 0, 0, 1, 0, 0, 1, 0, 0, 1, 0, 0, 0, 1, 0, 1, 0, 0, 0, 0, 1, 1, 0, 0, 0, 0, 0, 1, 0, 1, 0, 0, 0, 0, 1, 0, 0, 1, 0, 0, 0, 1, 0, 0, 0, 1, 0, 0, 1, 0, 0, 0, 0, 1, 0]\n",
    "J_2 = [0, 0, 0, 0, 0, 1, 0, 0, 0, 0, 0, 0, 1, 0, 0, 0, 0, 0, 0, 1, 0, 0, 0, 0, 0, 0, 1, 0, 0, 0, 0, 0, 0, 1, 0, 0, 0, 0, 0, 0, 1, 0, 0, 1, 0, 0, 0, 1, 0, 0, 1, 0, 0, 0, 1, 0, 0, 0, 1, 1, 1, 0, 0]\n",
    "E_2 = [0, 0, 0, 0, 0, 0, 0, 1, 0, 0, 0, 0, 0, 0, 1, 0, 0, 0, 0, 0, 0, 1, 0, 0, 0, 0, 0, 0, 1, 1, 1, 1, 1, 0, 0, 1, 0,0, 0, 0, 0, 0, 1, 0, 0, 0, 0, 0, 0, 1, 0, 0, 0, 0, 0, 0, 1, 1, 1, 1, 1, 1, 1]\n",
    "D_2 = [0, 0, 0, 0, 0, 0, 0, 1, 0, 0, 0, 0, 0, 0, 1, 0, 0, 0, 0, 0, 0, 1, 0, 0, 0, 0, 0, 1, 1, 0, 0, 0, 0, 0, 1, 1, 0,0, 0, 0, 0, 1, 1, 0, 0, 0, 0, 0, 1, 1, 0, 0, 0, 0, 1, 0, 1, 1, 1, 1, 1, 0, 0]\n",
    "\n",
    "A_3 = [0, 0, 0, 0, 0, 0, 0, 0, 0, 0, 1, 0, 0, 0, 0, 0, 1, 0, 1, 0, 0, 0, 0, 1, 0, 1, 0, 0, 0, 1, 0, 0, 0, 1, 0, 0, 1,1, 1, 1, 1, 0, 1, 0, 0, 0, 0, 0, 1, 1, 0, 0, 0, 0, 0, 1, 1, 1, 0, 0, 0, 1, 1]\n",
    "B_3 = [1, 1, 1, 1, 1, 1, 0, 0, 1, 0, 0, 0, 0, 1, 0, 1, 0, 0, 0, 0, 1, 0, 1, 1, 1, 1, 1, 0, 0, 1, 0, 0, 0, 0, 1, 0, 1,0, 0, 0, 0, 1, 0, 1, 0, 0, 0, 0, 1, 0, 1, 0, 0, 0, 0, 1, 1, 1, 1, 1, 1, 1, 0]\n",
    "C_3 = [0, 0, 1, 1, 1, 0, 1, 0, 1, 0, 0, 0, 1, 1, 1, 0, 0, 0, 0, 0, 1, 1, 0, 0, 0, 0, 0, 0, 1, 0, 0, 0, 0, 0, 0, 1, 0,0, 0, 0, 0, 0, 1, 0, 0, 0, 0, 0, 1, 0, 1, 0, 0, 0, 1, 0, 0, 0, 1, 1, 1, 0, 0]\n",
    "K_3 = [1, 1, 1, 0, 0, 1, 1, 0, 1, 0, 0, 0, 1, 0, 0, 1, 0, 0, 1, 0, 0, 0, 1, 0, 1, 0, 0, 0, 0, 1, 1, 0, 0, 0, 0, 0, 1,0, 1, 0, 0, 0, 0, 1, 0, 0, 1, 0, 0, 0, 1, 0, 0, 0, 1, 0, 1, 1, 1, 0, 0, 1, 1]\n",
    "J_3 = [0, 0, 0, 0, 1, 1, 1, 0, 0, 0, 0, 0, 1, 0, 0, 0, 0, 0, 0, 1, 0, 0, 0, 0, 0, 0, 1, 0, 0, 0, 0, 0, 0, 1, 0, 0, 0,0, 0, 0, 1, 0, 0, 0, 0, 0, 0, 1, 0, 0, 1, 0, 0, 0, 1, 0, 0, 0, 1, 1, 1, 0, 0]\n",
    "E_3 = [1, 1, 1, 1, 1, 1, 0, 0, 1, 0, 0, 0, 0, 1, 0, 1, 0, 0, 1, 0, 0, 0, 1, 1, 1, 1, 0, 0, 0, 1, 0, 0, 1, 0, 0, 0, 1,0, 0, 0, 0, 0, 0, 1, 0, 0, 0, 0, 0, 0, 1, 0, 0, 0, 0, 1, 1, 1, 1, 1, 1, 1, 1]\n",
    "D_3 = [1, 1, 1, 1, 1, 0, 0, 0, 1, 0, 0, 0, 1, 0, 0, 1, 0, 0, 0, 0, 1, 0, 1, 0, 0, 0, 0, 1, 0, 1, 0, 0, 0, 0, 1, 0, 1,0, 0, 0, 0, 1, 0, 1, 0, 0, 0, 0, 1, 0, 1, 0, 0, 0, 1, 0, 1, 1, 1, 1, 1, 0, 0]"
   ]
  },
  {
   "cell_type": "code",
   "execution_count": 6,
   "id": "34dd1570-74d2-4582-9305-2dc61fba3f24",
   "metadata": {},
   "outputs": [],
   "source": [
    "import numpy as np\n",
    "import random\n",
    "X = [\n",
    "    A_1, B_1, C_1, K_1, J_1, E_1, D_1,\n",
    "    A_2, B_2, C_2, K_2, J_2, E_2, D_2,\n",
    "    A_3, B_3, C_3, K_3, J_3, E_3, D_3\n",
    "]\n",
    "\n",
    "labels1 = [[1, -1, -1, -1, -1, -1, -1],\n",
    "         [-1, 1, -1, -1, -1, -1, -1],\n",
    "         [-1, -1, 1, -1, -1, -1, -1],\n",
    "         [-1, -1, -1, 1, -1, -1, -1],\n",
    "         [-1, -1, -1, -1, 1, -1, -1],\n",
    "         [-1, -1, -1, -1, -1, 1, -1],\n",
    "         [-1, -1, -1, -1, -1, -1, 1]] * 3\n",
    "\n",
    "labels2 = [[1, 0, 0, 0, 0, 0, 0],\n",
    "         [0, 1, 0, 0, 0, 0, 0],\n",
    "         [0, 0, 1, 0, 0, 0, 0],\n",
    "         [0, 0, 0, 1, 0, 0, 0],\n",
    "         [0, 0, 0, 0, 1, 0, 0],\n",
    "         [0, 0, 0, 0, 0, 1, 0],\n",
    "         [0, 0, 0, 0, 0, 0, 1]] * 3\n",
    "label_to_char = {\n",
    "            0: 'A',\n",
    "            1: 'B',\n",
    "            2: 'C',\n",
    "            3: 'K',\n",
    "            4: 'J',\n",
    "            5: 'E',\n",
    "            6: 'D'\n",
    "        }"
   ]
  },
  {
   "cell_type": "code",
   "execution_count": 8,
   "id": "49e0d47d-190f-4152-a004-36d942fa8067",
   "metadata": {},
   "outputs": [],
   "source": [
    "class Perceptron:\n",
    "    def __init__(self, learning_rate,epoch):\n",
    "        # Initializing the learning rate and number of iterations\n",
    "        self.epoch = epoch\n",
    "        self.learning_rate = learning_rate  # Learning rate for weight updates\n",
    "        self.weights = None  # Placeholder for weights\n",
    "        self.bias = None  # Placeholder for bias\n",
    "\n",
    "    def fit(self, X, y):\n",
    "        # Fitting the model to the training data\n",
    "        n_samples, n_features = X.shape  # Getting the number of samples and features\n",
    "        self.weights = np.zeros((n_samples//3,n_features))  # Initializing weights to zero\n",
    "        self.bias = np.zeros(n_samples//3)  # Initializing bias to zero\n",
    "        \n",
    "        # Training the model for a specified number of iterations\n",
    "        for k in range(self.epoch):\n",
    "                for idx, x_i in enumerate(X):\n",
    "                    # Calculating the linear output\n",
    "                    for j in range(len(y[idx])): \n",
    "                        linear_output = np.dot(self.weights[idx%7],x_i ) + self.bias[idx%7]\n",
    "                    # Applying the step function to determine the predicted class \n",
    "                        if (-y[idx][j]*linear_output >=0):\n",
    "                            # Updating weights and bias if there is a misclassification\n",
    "                            update = self.learning_rate * (y[idx][j])\n",
    "                            self.weights[idx%7] += update * x_i  # Updating weights\n",
    "                            self.bias[idx%7] += update  # Updating bias\n",
    "\n",
    "        #print(self.weights, self.bias)\n",
    "    def predict(self, X_predict):\n",
    "        # Making predictions on new data\n",
    "        label_to_char = {\n",
    "            0: 'A',\n",
    "            1: 'B',\n",
    "            2: 'C',\n",
    "            3: 'K',\n",
    "            4: 'J',\n",
    "            5: 'E',\n",
    "            6: 'D'\n",
    "        }\n",
    "        linear_output = np.dot(self.weights, X_predict) + self.bias  # Calculating linear output\n",
    "        #print(linear_output)\n",
    "        return np.where(linear_output < np.max(linear_output), -1, 1),label_to_char[np.argmax(linear_output)]  # Returning predicted classes"
   ]
  },
  {
   "cell_type": "markdown",
   "id": "f1f1a662-d83b-42ce-b008-fdd9da0d0aca",
   "metadata": {},
   "source": [
    "**1、建立由七个神经元组成的简单感知机网络，完成上述七个字母的识别训练**"
   ]
  },
  {
   "cell_type": "code",
   "execution_count": 11,
   "id": "90c5d121-837f-49ff-9db5-cc5fb2c55534",
   "metadata": {},
   "outputs": [
    {
     "name": "stdout",
     "output_type": "stream",
     "text": [
      "Predictions: (array([-1, -1, -1, -1, -1, -1,  1]), 'D')\n"
     ]
    }
   ],
   "source": [
    "#1、建立由七个神经元组成的简单感知机网络，完成上述七个字母的识别训练\n",
    "X_train=np.array(X)\n",
    "y_train=np.array(labels2)\n",
    "perceptron = Perceptron(learning_rate=0.5,epoch=1000)\n",
    "\n",
    "# Fitting the Perceptron model to the training data\n",
    "perceptron.fit(X_train, y_train)\n",
    "\n",
    "# Making predictions on the training data\n",
    "predictions = perceptron.predict(X_train[20])\n",
    "\n",
    "#\n",
    "# Printing the predictions\n",
    "print(\"Predictions:\", predictions)"
   ]
  },
  {
   "cell_type": "markdown",
   "id": "c9329490-5540-47ff-a530-554d10c3edb0",
   "metadata": {},
   "source": [
    "**2、添加随机噪声**"
   ]
  },
  {
   "cell_type": "code",
   "execution_count": 14,
   "id": "46f5370b-277c-419f-ba0e-4c3063c0d401",
   "metadata": {},
   "outputs": [],
   "source": [
    "#2、添加随机噪声\n",
    "A_3_n = [0, 0, 0, 0, 0, 1, 0, 0, 0, 0, 1, 0, 0, 0, 0, 0, 1, 0, 1, 0, 0, 0, 0, 1, 0, 1, 0, 0, 0, 1, 0, 0, 0, 1, 0, 0, 1,1, 1, 1, 1, 0, 1, 0, 0, 0, 0, 0, 1, 0, 0, 0, 0, 1, 0, 1, 1, 1, 0, 0, 0, 1, 1]\n",
    "B_3_n = [1, 1, 0, 1, 1, 1, 0, 0, 1, 0, 0, 0, 0, 1, 0, 1, 0, 0, 0, 0, 1, 0, 1, 1, 1, 1, 1, 0, 0, 1, 0, 0, 0, 0, 1, 0, 1,0, 0, 0, 0, 1, 0, 1, 0, 1, 0, 0, 1, 0, 1, 0, 0, 1, 0, 1, 1, 1, 1, 1, 1, 1, 0]\n",
    "E_1_n = [1, 1, 1, 1, 1, 1, 1, 0, 1, 0, 0, 1, 0, 1, 0, 0, 0, 0, 0, 0, 0, 0, 1, 0, 1, 0, 0, 0, 0, 1, 1, 1, 0, 0, 0, 0, 1 ,0, 1, 0, 0, 0, 0, 1, 0, 0, 0, 0, 0, 0, 1, 0, 0, 0, 0, 1, 1, 1, 0, 1, 1, 1, 1]\n",
    "D_1_n = [1, 1, 1, 1, 1, 1, 0, 0, 1, 0, 0, 0, 1, 0, 0, 1, 0, 0, 1, 0, 1, 0, 1, 0, 0, 0, 0, 1, 0, 1, 0, 0, 0, 0, 1, 0, 1 ,0, 0, 0, 0, 1, 0, 1, 0, 0, 0, 0, 1, 0, 1, 0, 0, 0, 1, 0, 1, 0, 1, 1, 1, 0, 0]"
   ]
  },
  {
   "cell_type": "code",
   "execution_count": 16,
   "id": "1cab34b0-7f89-40a3-bef8-9bf850ef6f5e",
   "metadata": {},
   "outputs": [
    {
     "name": "stdout",
     "output_type": "stream",
     "text": [
      "Predictions: (array([-1, -1, -1, -1, -1, -1,  1]), 'D')\n"
     ]
    }
   ],
   "source": [
    "X_n_test=[A_3_n,B_3_n,E_1_n,D_1_n]\n",
    "X_n_p=np.array(X_n_test)\n",
    "predictions_n = perceptron.predict(X_n_p[3])\n",
    "print(\"Predictions:\", predictions_n)"
   ]
  },
  {
   "cell_type": "markdown",
   "id": "686cdba0-c8e5-45be-99c9-0a2a4fdc5188",
   "metadata": {},
   "source": [
    "**3、使用添加噪声的训练集训练**"
   ]
  },
  {
   "cell_type": "code",
   "execution_count": 19,
   "id": "5d2d9fce-ff35-43e3-8f80-d030045da462",
   "metadata": {},
   "outputs": [],
   "source": [
    "#3、使用添加噪声的训练集训练\n",
    "X_n = [\n",
    "    A_1, B_1, C_1, K_1, J_1, E_1_n, D_1_n,\n",
    "    A_2, B_2, C_2, K_2, J_2, E_2, D_2,\n",
    "    A_3_n, B_3_n, C_3, K_3, J_3, E_3, D_3\n",
    "]"
   ]
  },
  {
   "cell_type": "code",
   "execution_count": 21,
   "id": "bf3a169b-08f9-4f05-9c70-499e3e78edb8",
   "metadata": {},
   "outputs": [
    {
     "name": "stdout",
     "output_type": "stream",
     "text": [
      "input data A\n",
      "Predictions: (array([ 1, -1, -1, -1, -1, -1, -1]), 'A')\n",
      "input data B\n",
      "Predictions: (array([-1,  1, -1, -1, -1, -1, -1]), 'B')\n",
      "input data C\n",
      "Predictions: (array([-1, -1,  1, -1, -1, -1, -1]), 'C')\n",
      "input data K\n",
      "Predictions: (array([-1, -1, -1,  1, -1, -1, -1]), 'K')\n",
      "input data J\n",
      "Predictions: (array([-1, -1, -1, -1,  1, -1, -1]), 'J')\n",
      "input data E\n",
      "Predictions: (array([-1, -1, -1, -1, -1,  1, -1]), 'E')\n",
      "input data D\n",
      "Predictions: (array([-1, -1, -1, -1, -1, -1,  1]), 'D')\n",
      "input data A\n",
      "Predictions: (array([ 1, -1, -1, -1, -1, -1, -1]), 'A')\n",
      "input data B\n",
      "Predictions: (array([-1,  1, -1, -1, -1, -1, -1]), 'B')\n",
      "input data C\n",
      "Predictions: (array([-1, -1,  1, -1, -1, -1, -1]), 'C')\n",
      "input data K\n",
      "Predictions: (array([-1, -1, -1,  1, -1, -1, -1]), 'K')\n",
      "input data J\n",
      "Predictions: (array([-1, -1, -1, -1,  1, -1, -1]), 'J')\n",
      "input data E\n",
      "Predictions: (array([-1,  1, -1, -1, -1,  1, -1]), 'B')\n",
      "input data D\n",
      "Predictions: (array([-1, -1, -1, -1, -1, -1,  1]), 'D')\n",
      "input data A\n",
      "Predictions: (array([ 1, -1, -1, -1, -1, -1, -1]), 'A')\n",
      "input data B\n",
      "Predictions: (array([-1,  1, -1, -1, -1, -1, -1]), 'B')\n",
      "input data C\n",
      "Predictions: (array([-1, -1,  1, -1, -1, -1, -1]), 'C')\n",
      "input data K\n",
      "Predictions: (array([-1, -1, -1,  1, -1, -1, -1]), 'K')\n",
      "input data J\n",
      "Predictions: (array([-1, -1, -1, -1,  1, -1, -1]), 'J')\n",
      "input data E\n",
      "Predictions: (array([-1, -1, -1, -1, -1,  1, -1]), 'E')\n",
      "input data D\n",
      "Predictions: (array([-1, -1, -1, -1, -1, -1,  1]), 'D')\n"
     ]
    }
   ],
   "source": [
    "X_train_n = np.array(X_n)\n",
    "perceptron_n = Perceptron(learning_rate=1,epoch=1000)\n",
    "\n",
    "# Fitting the Perceptron model to the training data\n",
    "perceptron_n.fit(X_train_n, y_train)\n",
    "\n",
    "# Making predictions on the training data\n",
    "for i in range(21):\n",
    "    predictions_n = perceptron.predict(X_train[i])\n",
    "    # Printing the predictions\n",
    "    print(\"input data\", label_to_char[i%7])\n",
    "    print(\"Predictions:\", predictions_n)\n"
   ]
  }
 ],
 "metadata": {
  "kernelspec": {
   "display_name": "Python 3 (ipykernel)",
   "language": "python",
   "name": "python3"
  },
  "language_info": {
   "codemirror_mode": {
    "name": "ipython",
    "version": 3
   },
   "file_extension": ".py",
   "mimetype": "text/x-python",
   "name": "python",
   "nbconvert_exporter": "python",
   "pygments_lexer": "ipython3",
   "version": "3.11.9"
  }
 },
 "nbformat": 4,
 "nbformat_minor": 5
}
