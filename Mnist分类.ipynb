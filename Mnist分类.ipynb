{
 "cells": [
  {
   "cell_type": "markdown",
   "id": "849a23f7-c12e-426b-8d24-644dd278e5af",
   "metadata": {},
   "source": [
    "# Minst"
   ]
  },
  {
   "cell_type": "code",
   "execution_count": 3,
   "id": "00d9465d-7a49-455e-8f6b-14d8e459d021",
   "metadata": {},
   "outputs": [],
   "source": [
    "import torch\n",
    "import torchvision\n",
    "from sklearn.datasets import fetch_openml\n",
    "import matplotlib.pyplot as plt\n",
    "# % matplotlib inline\n",
    " \n",
    "import torch\n",
    "from torch.utils.data import TensorDataset, DataLoader\n",
    "from sklearn.model_selection import train_test_split\n",
    " \n",
    "from torch import nn\n",
    " \n",
    "import numpy as np"
   ]
  },
  {
   "cell_type": "code",
   "execution_count": 4,
   "id": "607eb097-492f-48f4-b2af-300cbbc71983",
   "metadata": {},
   "outputs": [],
   "source": [
    "# pre-processing\n",
    "\n",
    "mnist = fetch_openml('mnist_784', data_home='.')\n",
    "X = mnist.data / 255\n",
    "y = mnist.target\n"
   ]
  },
  {
   "cell_type": "code",
   "execution_count": 5,
   "id": "e3dcfad9-f267-4b8f-b364-5e2ea8c161a5",
   "metadata": {},
   "outputs": [],
   "source": [
    "# dataloader\n",
    "X_train, X_test, y_train, y_test = train_test_split(\n",
    "    X, y, test_size=1/7, random_state=0)  # 数据切分，训练集：测试集=6:1\n",
    "\n",
    "X_train = np.array(X_train)          # 将list转为numpy格式\n",
    "X_test = np.array(X_test)\n",
    "y_train = list(map(int, y_train))    # 将label的str类型转为int\n",
    "y_test = list(map(int, y_test))\n",
    "X_train = torch.Tensor(X_train)      # 转为浮点tensor\n",
    "X_test = torch.Tensor(X_test)\n",
    "y_train = torch.LongTensor(y_train)  # 转为整型tensor\n",
    "y_test = torch.LongTensor(y_test)\n",
    "\n",
    "ds_train = TensorDataset(X_train, y_train)  # 转为Dataset\n",
    "ds_test = TensorDataset(X_test, y_test)\n",
    "\n",
    "# 转为Pytorch可以直接操作彻底DataLoader\n",
    "loader_train = DataLoader(ds_train, batch_size=(64), shuffle=True)\n",
    "loader_test = DataLoader(ds_test, batch_size=(64), shuffle=True)\n"
   ]
  },
  {
   "cell_type": "code",
   "execution_count": 6,
   "id": "0a274cda-a3a1-4e93-a434-0162b061fe4d",
   "metadata": {},
   "outputs": [
    {
     "name": "stdout",
     "output_type": "stream",
     "text": [
      "Sequential(\n",
      "  (fc1): Linear(in_features=784, out_features=100, bias=True)\n",
      "  (relu1): ReLU()\n",
      "  (fc2): Linear(in_features=100, out_features=100, bias=True)\n",
      "  (relu2): ReLU()\n",
      "  (fc3): Linear(in_features=100, out_features=10, bias=True)\n",
      ")\n"
     ]
    }
   ],
   "source": [
    "# build nn with keras sytle\n",
    "model = nn.Sequential()                             # 获取网络模型句柄\n",
    "model.add_module('fc1', nn.Linear(28*28*1, 100))    # 第一层神经元，输入层\n",
    "model.add_module('relu1', nn.ReLU())                # 第一层激活函数\n",
    "model.add_module('fc2', nn.Linear(100, 100))        # 第二层神经元，中间层\n",
    "model.add_module('relu2', nn.ReLU())                # 第二层激活函数\n",
    "model.add_module('fc3', nn.Linear(100, 10))         # 第三层神经元，输出层\n",
    "print(model)\n"
   ]
  },
  {
   "cell_type": "code",
   "execution_count": 7,
   "id": "71cc93bd-f6a6-4e59-a0d3-6debdb15c1b9",
   "metadata": {},
   "outputs": [
    {
     "name": "stdout",
     "output_type": "stream",
     "text": [
      "Net(\n",
      "  (fc1): Linear(in_features=784, out_features=100, bias=True)\n",
      "  (fc2): Linear(in_features=100, out_features=100, bias=True)\n",
      "  (fc3): Linear(in_features=100, out_features=10, bias=True)\n",
      ")\n"
     ]
    }
   ],
   "source": [
    "# build nn with chainer style\n",
    "\n",
    "import torch.nn as nn\n",
    "import torch.nn.functional as F\n",
    "\n",
    "class Net(nn.Module):\n",
    "    \n",
    "    def __init__(self, n_in, n_mid, n_out):\n",
    "        super(Net, self).__init__()\n",
    "        self.fc1 = nn.Linear(n_in, n_mid)\n",
    "        self.fc2 = nn.Linear(n_mid, n_mid)\n",
    "        self.fc3 = nn.Linear(n_mid, n_out)\n",
    "        \n",
    "    def forward(self, x):\n",
    "        h1 = F.relu(self.fc1(x))\n",
    "        h2 = F.relu(self.fc2(h1))\n",
    "        output = self.fc3(h2)\n",
    "        return output\n",
    "    \n",
    "    \n",
    "model = Net(n_in=28*28*1, n_mid=100, n_out=10)\n",
    "print(model)\n",
    "\n"
   ]
  },
  {
   "cell_type": "code",
   "execution_count": 8,
   "id": "097c7d18-c447-4dcf-aca9-f8dbefda4390",
   "metadata": {},
   "outputs": [],
   "source": [
    "# loss function\n",
    "\n",
    "from torch import optim\n",
    "\n",
    "loss_fn = nn.CrossEntropyLoss()                       # 选取交叉熵作为误差函数\n",
    "optimizer = optim.Adam(model.parameters(), lr=0.01)   # 设置优化器参数，学习率0.01\n"
   ]
  },
  {
   "cell_type": "code",
   "execution_count": 9,
   "id": "2cc489bc-3ef1-45ac-b5cc-afc11d5ee449",
   "metadata": {},
   "outputs": [
    {
     "name": "stdout",
     "output_type": "stream",
     "text": [
      "\n",
      " 测试数据的准确率 ： 710/10000 (7%)\n",
      "\n",
      "epoch0:结束\n",
      "\n",
      "epoch1:结束\n",
      "\n",
      "epoch2:结束\n",
      "\n",
      "epoch3:结束\n",
      "\n",
      "epoch4:结束\n",
      "\n",
      "\n",
      " 测试数据的准确率 ： 9571/10000 (96%)\n",
      "\n"
     ]
    }
   ],
   "source": [
    "# learning and predict process\n",
    "\n",
    "# 训练阶段\n",
    "def train(epoch):\n",
    "    model.train()\n",
    "    \n",
    "    for data, targets in loader_train:\n",
    "        optimizer.zero_grad()\n",
    "        outputs = model(data)\n",
    "        loss = loss_fn(outputs, targets)\n",
    "        loss.backward()\n",
    "        optimizer.step()\n",
    "        \n",
    "    print(\"epoch{}:结束\\n\".format(epoch))\n",
    "\n",
    "# 推理阶段\n",
    "def test():\n",
    "    model.eval()\n",
    "    correct = 0\n",
    "    \n",
    "    with torch.no_grad():\n",
    "        for data, targets in loader_test:\n",
    "            outputs = model(data)\n",
    "            _, predicted = torch.max(outputs.data, 1)\n",
    "            correct += predicted.eq(targets.data.view_as(predicted)).sum()\n",
    "    \n",
    "    data_sum = len(loader_test.dataset)\n",
    "    print(\"\\n 测试数据的准确率 ： {}/{} ({:.0f}%)\\n\".\n",
    "         format(correct, data_sum, 100. * correct / data_sum))\n",
    "        \n",
    "# 训练前的分类准确率\n",
    "test()\n",
    "# 训练3个epoch过程\n",
    "for epoch in range(5):\n",
    "    train(epoch)\n",
    "# 训练后的分类准确率\n",
    "test()\n",
    "\n"
   ]
  },
  {
   "cell_type": "markdown",
   "id": "2bb59ea2-b196-4948-917f-74716996f449",
   "metadata": {},
   "source": [
    "### 直接图片输入"
   ]
  },
  {
   "cell_type": "code",
   "execution_count": 12,
   "id": "941c0eeb-cc06-46f5-aa39-3b4e1d2f8557",
   "metadata": {},
   "outputs": [
    {
     "name": "stdout",
     "output_type": "stream",
     "text": [
      "预测结果是6\n",
      "这一图像数据的正确标签是6\n"
     ]
    },
    {
     "data": {
      "image/png": "[encoded data removed]",
      "text/plain": [
       "<Figure size 640x480 with 1 Axes>"
      ]
     },
     "metadata": {},
     "output_type": "display_data"
    }
   ],
   "source": [
    "# predict particular picture\n",
    "\n",
    "# 推理第8505张图片的数字类别\n",
    "index = 800\n",
    "model.eval()\n",
    "data = X_test[index]\n",
    "\n",
    "output = model(data)\n",
    "_, predicted = torch.max(output.data, 0)\n",
    "print(\"预测结果是{}\".format(predicted))\n",
    "\n",
    "X_test_show = (X_test[index]).numpy()\n",
    "plt.imshow(X_test_show.reshape(28, 28), cmap='gray')\n",
    "print(\"这一图像数据的正确标签是{:.0f}\".format(y_test[index]))\n",
    "\n"
   ]
  },
  {
   "cell_type": "markdown",
   "id": "1835b26e-2335-4cae-ba9b-13fd10de650a",
   "metadata": {},
   "source": [
    "### 特征提取法"
   ]
  },
  {
   "cell_type": "code",
   "execution_count": 14,
   "id": "9424493c-fa83-4f2a-b541-348852674303",
   "metadata": {},
   "outputs": [
    {
     "name": "stdout",
     "output_type": "stream",
     "text": [
      "Epoch [1/20], Loss: 0.7761\n",
      "Epoch [2/20], Loss: 0.2325\n",
      "Epoch [3/20], Loss: 0.1277\n",
      "Epoch [4/20], Loss: 0.0882\n",
      "Epoch [5/20], Loss: 0.0699\n",
      "Epoch [6/20], Loss: 0.0546\n",
      "Epoch [7/20], Loss: 0.0539\n",
      "Epoch [8/20], Loss: 0.0463\n",
      "Epoch [9/20], Loss: 0.0399\n",
      "Epoch [10/20], Loss: 0.0229\n",
      "Epoch [11/20], Loss: 0.0159\n",
      "Epoch [12/20], Loss: 0.0207\n",
      "Epoch [13/20], Loss: 0.0204\n",
      "Epoch [14/20], Loss: 0.0685\n",
      "Epoch [15/20], Loss: 0.0611\n",
      "Epoch [16/20], Loss: 0.0312\n",
      "Epoch [17/20], Loss: 0.0132\n",
      "Epoch [18/20], Loss: 0.0124\n",
      "Epoch [19/20], Loss: 0.0075\n",
      "Epoch [20/20], Loss: 0.0208\n"
     ]
    },
    {
     "data": {
      "image/png": "[encoded data removed]",
      "text/plain": [
       "<Figure size 640x480 with 1 Axes>"
      ]
     },
     "metadata": {},
     "output_type": "display_data"
    },
    {
     "name": "stdout",
     "output_type": "stream",
     "text": [
      "Test Accuracy: 92.15%\n"
     ]
    }
   ],
   "source": [
    "import torch\n",
    "from torchvision import datasets, transforms\n",
    "import numpy as np\n",
    "import cv2\n",
    "import torch.nn as nn\n",
    "import torch.optim as optim\n",
    "import matplotlib.pyplot as plt\n",
    "\n",
    "mnist_train = datasets.MNIST(root='./data', train=True, download=True)\n",
    "mnist_test = datasets.MNIST(root='./data', train=False, download=True)\n",
    "\n",
    "train_data = mnist_train.data[:5000].numpy()\n",
    "train_labels = mnist_train.targets[:5000].numpy()\n",
    "test_data = mnist_test.data[:2000].numpy()\n",
    "test_labels = mnist_test.targets[:2000].numpy()\n",
    "\n",
    "def downsample(image, size=(14, 14)):\n",
    "    return cv2.resize(image, size, interpolation=cv2.INTER_LINEAR)\n",
    "\n",
    "def extract_edge_orientation(image):\n",
    "    edges = cv2.Canny(image, 100, 200)\n",
    "    sobelx = cv2.Sobel(np.float32(image), cv2.CV_64F, 1, 0, ksize=5)\n",
    "    sobely = cv2.Sobel(np.float32(image), cv2.CV_64F, 0, 1, ksize=5)\n",
    "    orientation = np.arctan2(sobely, sobelx)\n",
    "    return orientation\n",
    "\n",
    "def extract_features(data):\n",
    "    features = []\n",
    "    for img in data:\n",
    "        downsampled_img = downsample(img)\n",
    "        orientation_img = extract_edge_orientation(img)\n",
    "        features.append(np.concatenate((downsampled_img.flatten(), orientation_img.flatten())))\n",
    "    return np.array(features)\n",
    "\n",
    "train_features = extract_features(train_data)\n",
    "test_features = extract_features(test_data)\n",
    "\n",
    "train_features = torch.tensor(train_features, dtype=torch.float32)\n",
    "train_labels = torch.tensor(train_labels, dtype=torch.long)\n",
    "test_features = torch.tensor(test_features, dtype=torch.float32)\n",
    "test_labels = torch.tensor(test_labels, dtype=torch.long)\n",
    "\n",
    "# 2. 模型设计\n",
    "class SmallBPNet(nn.Module):\n",
    "    def __init__(self):\n",
    "        super(SmallBPNet, self).__init__()\n",
    "        self.fc1 = nn.Linear(14*14 + 28*28, 128)\n",
    "        self.fc2 = nn.Linear(128, 64)\n",
    "        self.fc3 = nn.Linear(64, 10)\n",
    "\n",
    "    def forward(self, x):\n",
    "        x = torch.relu(self.fc1(x))\n",
    "        x = torch.relu(self.fc2(x))\n",
    "        x = self.fc3(x)\n",
    "        return x\n",
    "\n",
    "model1 = SmallBPNet()\n",
    "\n",
    "# 3. 设置损失函数和优化器\n",
    "criterion = nn.CrossEntropyLoss()\n",
    "optimizer = optim.Adam(model1.parameters(), lr=0.001)\n",
    "\n",
    "# 4. 训练模型\n",
    "epochs = 20\n",
    "batch_size = 64\n",
    "train_losses = []\n",
    "\n",
    "for epoch in range(epochs):\n",
    "    running_loss = 0.0\n",
    "    for i in range(0, len(train_features), batch_size):\n",
    "        inputs = train_features[i:i+batch_size]\n",
    "        labels = train_labels[i:i+batch_size]\n",
    "\n",
    "        optimizer.zero_grad()\n",
    "        outputs = model1(inputs)\n",
    "        loss = criterion(outputs, labels)\n",
    "        loss.backward()\n",
    "        optimizer.step()\n",
    "\n",
    "        running_loss += loss.item()\n",
    "    \n",
    "    epoch_loss = running_loss / (len(train_features) // batch_size)\n",
    "    train_losses.append(epoch_loss)\n",
    "    print(f\"Epoch [{epoch+1}/{epochs}], Loss: {epoch_loss:.4f}\")\n",
    "\n",
    "plt.plot(train_losses, label='Training Loss')\n",
    "plt.title('Training Loss Over Time')\n",
    "plt.xlabel('Epoch')\n",
    "plt.ylabel('Loss')\n",
    "plt.legend(frameon=False)\n",
    "plt.show()\n",
    "\n",
    "correct = 0\n",
    "total = 0\n",
    "\n",
    "with torch.no_grad():\n",
    "    for i in range(0, len(test_features), batch_size):\n",
    "        inputs = test_features[i:i+batch_size]\n",
    "        labels = test_labels[i:i+batch_size]\n",
    "        \n",
    "        outputs = model1(inputs)\n",
    "        _, predicted = torch.max(outputs, 1)\n",
    "        total += labels.size(0)\n",
    "        correct += (predicted == labels).sum().item()\n",
    "\n",
    "accuracy = 100 * correct / total\n",
    "print(f'Test Accuracy: {accuracy:.2f}%')"
   ]
  },
  {
   "cell_type": "markdown",
   "id": "7e6d1dd2-36ff-49f5-a36c-d67344395bf5",
   "metadata": {},
   "source": [
    "# 特征点法\n",
    "优点:\n",
    "理论成熟：特征点法在研究和应用方面都非常广泛，如ORBSLAM等算法。\n",
    "稳定性和鲁棒性：由于有描述子，特征点法对视觉特征的描述稳定，不易受光照影响。\n",
    "回环检测：通过特征点建立的词袋模型，可以进行有效的回环检测。\\\n",
    "缺点:\n",
    "对无纹理或弱纹理的处理困难：在无纹理或纹理较弱的环境中，特征点匹配变得困难。\n",
    "计算资源消耗大：关键点和描述子的计算较为复杂，实时性不高。\n",
    "图像利用率低：除了特征点，其他图像点对SLAM系统的贡献较小。\n",
    "\n",
    "# 直接法\n",
    "优点:\n",
    "数据关联的整体处理：直接法以更整体和优雅的方式处理数据关联问题，不需要一一对应的特征匹配。\n",
    "计算效率：节省了特征提取与匹配的时间，易于移植到嵌入式系统，并与IMU融合。\n",
    "适用范围广：在特征缺失的情况下，如重复纹理或缺乏角点的环境，仍能使用。\n",
    "地图重建：可以进行稠密或半稠密的地图重建。\\\n",
    "缺点:\n",
    "灰度不变的假设：这是一个强假设，难以满足，特别是在曝光和模糊影像的情况下。\n",
    "对相机要求高：通常需要全局快门相机，并进行光度标定。\n",
    "地图复用和回环检测困难：直接法难以实现地图复用、回环检测和丢失后的重定位"
   ]
  },
  {
   "cell_type": "markdown",
   "id": "fedd3482-444e-475d-9aee-9ca0c8275ea5",
   "metadata": {},
   "source": [
    "# Fasion Mnist"
   ]
  },
  {
   "cell_type": "code",
   "execution_count": 16,
   "id": "e7932f47-c10e-43d0-80c1-e91d71dbf9d8",
   "metadata": {},
   "outputs": [],
   "source": [
    "import torch\n",
    "import torchvision\n",
    "from torch.utils import data\n",
    "from torchvision import transforms\n",
    "import matplotlib.pyplot as plt\n",
    "# 通过ToTensor实例将图像数据从PIL类型变换成32位浮点数格式，\n",
    "# 并除以255使得所有像素的数值均在0到1之间\n",
    "trans = transforms.ToTensor()\n",
    "train_dataset = torchvision.datasets.FashionMNIST(root=\"../data\", train=True, transform=trans, download = True)\n",
    "test_dataset = torchvision.datasets.FashionMNIST(root=\"../data\", train=False, transform=trans, download = True)"
   ]
  },
  {
   "cell_type": "code",
   "execution_count": 17,
   "id": "e1a2904e-0f6a-4008-a604-33f1411d44d6",
   "metadata": {},
   "outputs": [],
   "source": [
    "BATCH_SIZE=256\n",
    "train_loader = torch.utils.data.DataLoader(dataset=train_dataset,\n",
    "                                           batch_size=BATCH_SIZE,\n",
    "                                           shuffle=True) # shuffle 标识要打乱顺序\n",
    "test_loader = torch.utils.data.DataLoader(dataset=test_dataset,\n",
    "                                           batch_size=BATCH_SIZE,\n",
    "                                           shuffle=False) # shuffle 标识要打乱顺序，测试集不需要打乱"
   ]
  },
  {
   "cell_type": "code",
   "execution_count": 18,
   "id": "8caf0e1f-0caf-42d0-bf54-fc9efd6f1dae",
   "metadata": {},
   "outputs": [
    {
     "data": {
      "image/png": "[encoded data removed]",
      "text/plain": [
       "<Figure size 640x480 with 1 Axes>"
      ]
     },
     "metadata": {},
     "output_type": "display_data"
    }
   ],
   "source": [
    "a=iter(train_loader)\n",
    "data=next(a)\n",
    "img=data[0][0].reshape(28,28)\n",
    "data[0][0].shape,img.shape\n",
    "(torch.Size([1, 28, 28]), torch.Size([28, 28]))\n",
    "plt.imshow(img,cmap = plt.cm.gray)\n",
    "plt.show()"
   ]
  },
  {
   "cell_type": "code",
   "execution_count": 19,
   "id": "361e6346-4301-4add-91f1-d4abd18890a1",
   "metadata": {},
   "outputs": [],
   "source": [
    "import torch.nn as nn\n",
    "import torch.nn.functional as F\n",
    "\n",
    "# 定义一个用于服装分类的卷积神经网络\n",
    "class GarmentClassifier(nn.Module):\n",
    "    def __init__(self):\n",
    "        super(GarmentClassifier, self).__init__()\n",
    "        # 定义第一个卷积层，输入通道数为1，输出通道数为6，卷积核大小为5x5\n",
    "        self.conv1 = nn.Conv2d(1, 6, 5)\n",
    "        # 定义最大池化层，池化窗口大小为2x2\n",
    "        self.pool = nn.MaxPool2d(2, 2)\n",
    "        # 定义第二个卷积层，输入通道数为6，输出通道数为16，卷积核大小为5x5\n",
    "        self.conv2 = nn.Conv2d(6, 16, 5)\n",
    "        # 定义第一个全连接层，输入大小为16*4*4，输出大小为120\n",
    "        self.fc1 = nn.Linear(16 * 4 * 4, 120)\n",
    "        # 定义第二个全连接层，输入大小为120，输出大小为84\n",
    "        self.fc2 = nn.Linear(120, 84)\n",
    "        # 定义第三个全连接层，输入大小为84，输出大小为10（对应10个类别）\n",
    "        self.fc3 = nn.Linear(84, 10)\n",
    "\n",
    "    def forward(self, x):\n",
    "        # 通过第一个卷积层和ReLU激活函数，然后通过最大池化层\n",
    "        x = self.pool(F.relu(self.conv1(x)))\n",
    "        # 通过第二个卷积层和ReLU激活函数，然后通过最大池化层\n",
    "        x = self.pool(F.relu(self.conv2(x)))\n",
    "        # 展平张量，从多维张量变为二维张量\n",
    "        x = x.view(-1, 16 * 4 * 4)\n",
    "        # 通过第一个全连接层和ReLU激活函数\n",
    "        x = F.relu(self.fc1(x))\n",
    "        # 通过第二个全连接层和ReLU激活函数\n",
    "        x = F.relu(self.fc2(x))\n",
    "        # 通过第三个全连接层（输出层）\n",
    "        x = self.fc3(x)\n",
    "        return x\n",
    "    "
   ]
  },
  {
   "cell_type": "code",
   "execution_count": 21,
   "id": "68bb19d5-b621-4e97-9e5c-8400941627e0",
   "metadata": {},
   "outputs": [
    {
     "name": "stdout",
     "output_type": "stream",
     "text": [
      "[1, 2000] loss: 1.0247462303296198\n",
      "[1, 4000] loss: 0.6593876647862126\n",
      "[1, 6000] loss: 0.6012420449665987\n",
      "[1, 8000] loss: 0.5611308816773589\n",
      "[1, 10000] loss: 0.5566018648508143\n",
      "[1, 12000] loss: 0.5565746168492698\n",
      "[1, 14000] loss: 0.5018928329317659\n",
      "[2, 2000] loss: 0.5262887316457723\n",
      "[2, 4000] loss: 0.5056850721580041\n",
      "[2, 6000] loss: 0.5108657411200038\n",
      "[2, 8000] loss: 0.5177952152493278\n",
      "[2, 10000] loss: 0.5047901200084592\n",
      "[2, 12000] loss: 0.506114835432156\n",
      "[2, 14000] loss: 0.4993993332820478\n",
      "[3, 2000] loss: 0.4607184903337567\n",
      "[3, 4000] loss: 0.5074207770389078\n",
      "[3, 6000] loss: 0.4963278107731804\n",
      "[3, 8000] loss: 0.520575558354888\n",
      "[3, 10000] loss: 0.5617235661309727\n",
      "[3, 12000] loss: 0.5628996655537875\n",
      "[3, 14000] loss: 0.5667307931359543\n"
     ]
    }
   ],
   "source": [
    "from datetime import datetime\n",
    "import torch\n",
    "import torchvision\n",
    "import torchvision.transforms as transforms\n",
    "\n",
    "# 定义图像转换操作：将图像转换为张量，并进行归一化处理\n",
    "transform = transforms.Compose(\n",
    "    [transforms.ToTensor(),\n",
    "    transforms.Normalize((0.5,), (0.5,))]) # 对图像的每个通道进行标准化，使得每个通道的像素值具有零均值和单位标准差\n",
    "\n",
    "# 加载FashionMNIST训练数据集，并应用定义的图像转换操作\n",
    "#training_set = torchvision.datasets.FashionMNIST('./data', train=True, transform=transform)\n",
    "\n",
    "# 创建数据加载器，用于批量加载训练数据，batch_size为4，数据顺序随机打乱\n",
    "trainloader = torch.utils.data.DataLoader(train_dataset, batch_size=4, shuffle=True)\n",
    "\n",
    "# 实例化模型\n",
    "model2 = GarmentClassifier()\n",
    "# 定义损失函数为交叉熵损失\n",
    "loss_fn = torch.nn.CrossEntropyLoss()\n",
    "# 定义优化器为随机梯度下降（SGD），学习率为0.001，动量为0.9\n",
    "optimizer = torch.optim.SGD(model2.parameters(), lr=0.01, momentum=0.9)\n",
    "\n",
    "# 训练模型，训练2个epoch\n",
    "for epoch in range(3):\n",
    "    running_loss = 0.0  # 初始化累计损失\n",
    "    # 枚举数据加载器中的数据，i是批次索引，data是当前批次的数据\n",
    "    for i, data in enumerate(trainloader, 0):\n",
    "        inputs, labels = data  # 获取输入数据和对应的标签\n",
    "        optimizer.zero_grad()  # 清空梯度\n",
    "        outputs = model2(inputs)  # 前向传播，计算模型输出\n",
    "        loss = loss_fn(outputs, labels)  # 计算损失\n",
    "        loss.backward()  # 反向传播，计算梯度\n",
    "        optimizer.step()  # 更新模型参数\n",
    "        running_loss += loss.item()  # 累加损失\n",
    "\n",
    "        # 每2000个批次打印一次平均损失\n",
    "        if i % 2000 == 1999:\n",
    "            print(f'[{epoch + 1}, {i + 1}] loss: {running_loss / 2000}')\n",
    "            running_loss = 0.0  # 重置累计损失\n",
    "      \n",
    "# 获取当前时间戳，格式为 'YYYYMMDD_HHMMSS'\n",
    "timestamp = datetime.now().strftime('%Y%m%d%H%M%S.pth')\n",
    "\n",
    "# 定义模型保存路径，包含时间戳\n",
    "model2_path = 'model2_{}'.format(timestamp)      \n",
    "\n",
    "# 保存模型的状态字典到指定路径\n",
    "torch.save(model2.state_dict(), model2_path)"
   ]
  },
  {
   "cell_type": "code",
   "execution_count": 24,
   "id": "dd5053ad-ea5e-4a24-8caf-f7464870405e",
   "metadata": {},
   "outputs": [
    {
     "name": "stdout",
     "output_type": "stream",
     "text": [
      "Predicted label: Sandal\n"
     ]
    }
   ],
   "source": [
    "import os\n",
    "import glob\n",
    "import torch\n",
    "import torchvision.transforms as transforms\n",
    "from PIL import Image\n",
    "from datetime import datetime\n",
    "\n",
    "\n",
    "def get_latest_model_path(directory, pattern=\"model_*.pth\"):\n",
    "    # 获取目录下所有符合模式的文件\n",
    "    model_files = glob.glob(os.path.join(directory, pattern))\n",
    "    if not model_files:\n",
    "        raise FileNotFoundError(\"No model files found in the directory.\")\n",
    "    \n",
    "    # 找到最新的模型文件\n",
    "    latest_model_file = max(model_files, key=os.path.getmtime)\n",
    "    return latest_model_file\n",
    "\n",
    "\n",
    "# 定义图像转换操作：将图像转换为张量，并进行归一化处理\n",
    "transform = transforms.Compose([\n",
    "    transforms.Resize((28, 28)),  # 调整图像大小为28x28\n",
    "    transforms.ToTensor(),\n",
    "    transforms.Normalize((0.5,), (0.5,))\n",
    "])\n",
    "\n",
    "# 加载训练好的模型\n",
    "model = GarmentClassifier()\n",
    "model_path = get_latest_model_path('./')  # 获取最新的模型文件\n",
    "model2.load_state_dict(torch.load(model_path, weights_only=False)) # 加载模型参数\n",
    "model2.eval()  # 设置模型为评估模式\n",
    "\n",
    "# 从本地加载图像\n",
    "image_path = 'shoe.jpg'  # 替换为实际的图像路径\n",
    "image = Image.open(image_path).convert('L')  # 将图像转换为灰度图\n",
    "image.show()\n",
    "# 预处理图像\n",
    "image = transform(image)\n",
    "image = image.unsqueeze(0)  # 增加一个批次维度\n",
    "\n",
    "# 推理（预测）\n",
    "with torch.no_grad():  # 在推理过程中不需要计算梯度\n",
    "    outputs = model2(image)  # 前向传播，计算模型输出\n",
    "    _, predicted = torch.max(outputs, 1)  # 获取预测结果\n",
    "\n",
    "# 定义类别名称\n",
    "classes = ('T-shirt/top', 'Trouser', 'Pullover', 'Dress', 'Coat',\n",
    "           'Sandal', 'Shirt', 'Sneaker', 'Bag', 'Ankle boot')\n",
    "\n",
    "# 打印预测结果\n",
    "print(f'Predicted label: {classes[predicted.item()]}')"
   ]
  }
 ],
 "metadata": {
  "kernelspec": {
   "display_name": "Python 3 (ipykernel)",
   "language": "python",
   "name": "python3"
  },
  "language_info": {
   "codemirror_mode": {
    "name": "ipython",
    "version": 3
   },
   "file_extension": ".py",
   "mimetype": "text/x-python",
   "name": "python",
   "nbconvert_exporter": "python",
   "pygments_lexer": "ipython3",
   "version": "3.11.9"
  }
 },
 "nbformat": 4,
 "nbformat_minor": 5
}
